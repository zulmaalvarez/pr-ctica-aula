{
 "cells": [
  {
   "cell_type": "markdown",
   "metadata": {},
   "source": [
    "K-medias"
   ]
  },
  {
   "cell_type": "code",
   "execution_count": 50,
   "metadata": {},
   "outputs": [
    {
     "data": {
      "image/png": "[encoded data removed]",
      "text/plain": [
       "<Figure size 432x288 with 1 Axes>"
      ]
     },
     "metadata": {
      "needs_background": "light"
     },
     "output_type": "display_data"
    },
    {
     "name": "stdout",
     "output_type": "stream",
     "text": [
      "(x1,x2)->:clase\n",
      "3,5->:1\n",
      "(x1,x2)->:clase\n",
      "1,4->:1\n",
      "(x1,x2)->:clase\n",
      "1,6->:1\n",
      "(x1,x2)->:clase\n",
      "2,6->:1\n",
      "(x1,x2)->:clase\n",
      "1,5->:1\n",
      "(x1,x2)->:clase\n",
      "6,8->:2\n",
      "(x1,x2)->:clase\n",
      "6,6->:2\n",
      "(x1,x2)->:clase\n",
      "6,7->:2\n",
      "(x1,x2)->:clase\n",
      "5,6->:2\n",
      "(x1,x2)->:clase\n",
      "6,7->:2\n",
      "(x1,x2)->:clase\n",
      "7,1->:0\n",
      "(x1,x2)->:clase\n",
      "8,2->:0\n",
      "(x1,x2)->:clase\n",
      "9,1->:0\n",
      "(x1,x2)->:clase\n",
      "8,2->:0\n",
      "(x1,x2)->:clase\n",
      "9,3->:0\n",
      "(x1,x2)->:clase\n",
      "9,2->:0\n",
      "(x1,x2)->:clase\n",
      "8,3->:0\n",
      "[1 1 1 1 1 2 2 2 2 2 0 0 0 0 0 0 0]\n",
      "prediccion:([[3, 5]],[1])\n",
      "[[8.28571429 2.        ]\n",
      " [1.6        5.2       ]\n",
      " [5.8        6.8       ]]\n",
      "[[3 5]\n",
      " [1 4]\n",
      " [1 6]\n",
      " [2 6]\n",
      " [1 5]\n",
      " [6 8]\n",
      " [6 6]\n",
      " [6 7]\n",
      " [5 6]\n",
      " [6 7]\n",
      " [7 1]\n",
      " [8 2]\n",
      " [9 1]\n",
      " [8 2]\n",
      " [9 3]\n",
      " [9 2]\n",
      " [8 3]]\n"
     ]
    }
   ],
   "source": [
    "import numpy as np \n",
    "import matplotlib.pyplot as plt\n",
    "from sklearn.cluster import KMeans\n",
    "from sklearn import metrics\n",
    "\n",
    "v1=[3,1,1,2,1,6,6,6,5,6,7,8,9,8,9,9,8]\n",
    "v2=[5,4,6,6,5,8,6,7,6,7,1,2,1,2,3,2,3]\n",
    "x1=np.array(v1)\n",
    "x2=np.array(v2)\n",
    "x=np.array(list(zip(x1,x2))).reshape(len(x1),2)\n",
    "plt.plot(x1,x2,'o',Label='datos')\n",
    "#plt.plot(x1,a+b*x1,Label='Ajuste')\n",
    "plt.xlabel('x1')\n",
    "plt.ylabel('x2')\n",
    "plt.grid()#para poner al grafico lineas\n",
    "plt.legend()\n",
    "plt.show()\n",
    "#algoritmo kmeans\n",
    "k=3\n",
    "modelo_kmeans=KMeans(n_clusters=k).fit(x)\n",
    "for i,l in enumerate(modelo_kmeans.labels_):\n",
    "    print(\"(x1,x2)->:clase\")\n",
    "    print(\"{0},{1}->:{2}\".format(x1[i],x2[i],l))\n",
    "predicir=modelo_kmeans.predict(x)\n",
    "print(predicir)\n",
    "prueba=[[3,5]]\n",
    "prediccion=modelo_kmeans.predict(prueba)\n",
    "print(\"prediccion:({0},{1})\".format(prueba,prediccion))\n",
    "#calculando centroides\n",
    "print(modelo_kmeans.cluster_centers_)\n",
    "                                     \n",
    "print(x)\n",
    "#tarea graficar con los puntos centroides\n",
    "\n"
   ]
  },
  {
   "cell_type": "code",
   "execution_count": null,
   "metadata": {},
   "outputs": [],
   "source": []
  },
  {
   "cell_type": "code",
   "execution_count": null,
   "metadata": {},
   "outputs": [],
   "source": []
  },
  {
   "cell_type": "code",
   "execution_count": null,
   "metadata": {},
   "outputs": [],
   "source": []
  }
 ],
 "metadata": {
  "kernelspec": {
   "display_name": "Python 3",
   "language": "python",
   "name": "python3"
  },
  "language_info": {
   "codemirror_mode": {
    "name": "ipython",
    "version": 3
   },
   "file_extension": ".py",
   "mimetype": "text/x-python",
   "name": "python",
   "nbconvert_exporter": "python",
   "pygments_lexer": "ipython3",
   "version": "3.7.3"
  }
 },
 "nbformat": 4,
 "nbformat_minor": 2
}
